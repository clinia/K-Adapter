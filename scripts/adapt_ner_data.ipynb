{
 "cells": [
  {
   "cell_type": "markdown",
   "source": [
    "# Data prepping fir Relation classification\n",
    "\n",
    "This notebook aims to transform our NER data to the appropriate format for K-Adapter, in particular the factual adapter. The linguistic adapter makes much more sense in the paper because they are working with general knowledge. \n",
    "\n",
    "In the paper they used Wikidata for the factual adapter, and BookCorpus for the linguistic adapter. The wikidata they use contains 2 (related) entities per input sentence. Unfortunately, we probably will not have such data, but we could however force inject related entities together in a sentence. Or at least try!\n"
   ],
   "metadata": {}
  },
  {
   "cell_type": "code",
   "execution_count": 374,
   "source": [
    "import pandas as pd \n",
    "from ast import literal_eval\n",
    "\n",
    "name = \"dev\"\n",
    "ner_data = pd.read_csv(f\"data/ner_data/ser_bus_spc/en/{name}/data.csv\", index_col=0)\n",
    "ner_data[\"text\"] = ner_data[\"text\"].apply(lambda row: literal_eval(row))\n",
    "ner_data[\"tag\"] = ner_data[\"tag\"].apply(lambda row: literal_eval(row))\n"
   ],
   "outputs": [],
   "metadata": {}
  },
  {
   "cell_type": "code",
   "execution_count": 375,
   "source": [
    "ner_data.iloc[1][\"text\"]"
   ],
   "outputs": [
    {
     "output_type": "execute_result",
     "data": {
      "text/plain": [
       "['in',\n",
       " 'humans',\n",
       " 'methemoglobin',\n",
       " 'formation',\n",
       " 'is',\n",
       " 'very',\n",
       " 'rare',\n",
       " 'at',\n",
       " 'therapeutic',\n",
       " 'doses',\n",
       " 'and',\n",
       " 'overdoses',\n",
       " 'of',\n",
       " 'acetaminophen']"
      ]
     },
     "metadata": {},
     "execution_count": 375
    }
   ],
   "metadata": {}
  },
  {
   "cell_type": "code",
   "execution_count": 376,
   "source": [
    "def create_lookup_table(spo_path:str, predicate:bool = False):\n",
    "    lookup_table = {}\n",
    "    print(\"[KnowledgeGraph] Loading spo from {}\".format(spo_path))\n",
    "    with open(spo_path, 'r', encoding='utf-8') as f:\n",
    "        for line in f:\n",
    "            try:\n",
    "                subj, pred, obje = line.strip().split(\"\\t\")    \n",
    "            except:\n",
    "                print(\"[KnowledgeGraph] Bad spo:\", line)\n",
    "            if predicate:\n",
    "                value = pred + \" \" + obje\n",
    "            else:\n",
    "                value = obje\n",
    "            if subj in lookup_table.keys():\n",
    "                lookup_table[subj].append(value)\n",
    "            else:\n",
    "                lookup_table[subj] = list([value])\n",
    "    return lookup_table"
   ],
   "outputs": [],
   "metadata": {}
  },
  {
   "cell_type": "code",
   "execution_count": 377,
   "source": [
    "clinia_kg = create_lookup_table(spo_path=\"data/custom_taxo/clinia_kg.spo\", predicate = False)"
   ],
   "outputs": [
    {
     "output_type": "stream",
     "name": "stdout",
     "text": [
      "[KnowledgeGraph] Loading spo from data/custom_taxo/clinia_kg.spo\n"
     ]
    }
   ],
   "metadata": {}
  },
  {
   "cell_type": "code",
   "execution_count": 378,
   "source": [
    "import numpy as np\n",
    "def get_entity_pos(tags):\n",
    "    entities_pos = []\n",
    "    cont = 0\n",
    "    i_max = len(tags)\n",
    "    for i,tag in enumerate(tags):\n",
    "        if tag !=\"O\" and cont == 0:\n",
    "            index = i # remember the\n",
    "            if i == (i_max -1):\n",
    "                # case where entity is one word long and at the end\n",
    "                entities_pos.append((index, index + cont))\n",
    "            cont+=1\n",
    "        elif cont !=0 and tag !=\"O\" and i != (i_max-1):\n",
    "            # continuing an entity case\n",
    "            cont+=1\n",
    "        elif cont !=0 and tag == \"O\":\n",
    "            # standard case\n",
    "            entities_pos.append((index, index + cont -1))\n",
    "            cont = 0\n",
    "        elif cont!=0 and i == (i_max-1):\n",
    "            # case where entity is more than one word long and at the end\n",
    "            entities_pos.append((index, index + cont))\n",
    "    return entities_pos\n",
    "\n"
   ],
   "outputs": [],
   "metadata": {}
  },
  {
   "cell_type": "code",
   "execution_count": 379,
   "source": [
    "import re\n",
    "with open(\"data/custom_taxo/graph_triples.nt\", 'r', encoding=\"utf-8\") as g:\n",
    "    graphs = {}\n",
    "    for line in g:\n",
    "        try:\n",
    "            subj, relation, parent = re.findall(r'\"(.*?)\"', line)\n",
    "        except:\n",
    "            print(\"Bad formatting, skipping.\")\n",
    "\n",
    "        if subj not in graphs.keys():\n",
    "            graphs[subj] = {}\n",
    "            graphs[subj][\"relations\"] = [(relation, parent)]\n",
    "        else:\n",
    "            graphs[subj][\"relations\"].append((relation, parent))\n",
    "        "
   ],
   "outputs": [],
   "metadata": {}
  },
  {
   "cell_type": "code",
   "execution_count": 380,
   "source": [
    "ner_data[\"entity_pos\"] = ner_data[\"tag\"].apply(lambda row: get_entity_pos(row))"
   ],
   "outputs": [],
   "metadata": {}
  },
  {
   "cell_type": "code",
   "execution_count": 381,
   "source": [
    "import random\n",
    "def process_data(df:pd.DataFrame, taxo:dict):\n",
    "    examples = []\n",
    "    for _, row in df.iterrows():\n",
    "        exs = []\n",
    "        for ent_pos in row[\"entity_pos\"]:\n",
    "            ex = {}\n",
    "            ex[\"token\"] = row[\"text\"]\n",
    "            ex[\"subj_start\"] = ent_pos[0] # we are not guarenteed to have a subject object relationship in a single sentence\n",
    "            ex[\"subj_end\"] = ent_pos[1]\n",
    "\n",
    "            entity = \" \".join(ex[\"token\"][ent_pos[0]: ent_pos[1]+1])\n",
    "            #relation = taxo[entity][\"relation\"] # need relation label of course\n",
    "            try:\n",
    "                relation, parent = random.choice(taxo[entity][\"relations\"]) # \n",
    "            except KeyError:\n",
    "                relation = \"no_relation\"\n",
    "                parent = \"no_parent\"\n",
    "            ex[\"relation\"] = relation\n",
    "\n",
    "\n",
    "            #related_entity = taxo[entity][\"related_entity\"] # \n",
    "            #ex[\"token\"].insert(ent_pos[0]+1, parent) # TODO: what if the parent has multiple words??\n",
    "            ex[\"token\"][ent_pos[1]+1:ent_pos[1]+1] = parent.split()\n",
    "            ex[\"obj_start\"] = ent_pos[1] + 1\n",
    "            ex[\"obj_end\"] = ent_pos[1] + len(parent.split())\n",
    "            #ex[\"obj_start\"] = 0\n",
    "            #ex[\"obj_end\"] = 0\n",
    "            #coudld have labels for subj and obj\n",
    "            # we probably need to add a mask / visibility matrix for this last part of input we added, like in KBERT,\n",
    "            # because we do not want to corrupt the sentence contextual representation with it. It probably will not make much sense. \n",
    "            exs.append(ex)\n",
    "        examples.extend(exs)\n",
    "    return examples\n"
   ],
   "outputs": [],
   "metadata": {}
  },
  {
   "cell_type": "code",
   "execution_count": 382,
   "source": [
    "import json\n",
    "ner_data_copy = ner_data.copy(deep = True)\n",
    "exs = process_data(ner_data_copy, graphs)\n",
    "with open(f\"data/ner_data/custom_data/{name}.json\", \"w\") as f:\n",
    "    json.dump(exs, f)"
   ],
   "outputs": [],
   "metadata": {}
  },
  {
   "cell_type": "code",
   "execution_count": null,
   "source": [
    "def get_labels(examples):\n",
    "    labels2id = {}\n",
    "    i=0\n",
    "    for entry in examples:\n",
    "        relation = entry[\"relation\"]\n",
    "        if relation not in labels2id.keys():\n",
    "            labels2id[relation] = i\n",
    "            i+=1\n",
    "        else:\n",
    "            continue\n",
    "\n",
    "    \n",
    "    id2labels = {v:k for k,v in labels2id.items()}\n",
    "    return labels2id, id2labels\n",
    "labels2id, id2labels = get_labels(exs)"
   ],
   "outputs": [],
   "metadata": {}
  },
  {
   "cell_type": "code",
   "execution_count": 302,
   "source": [
    "with open(\"data/ner_data/custom_data/relations.json\", \"w\") as f:\n",
    "    json.dump(labels2id, f)"
   ],
   "outputs": [],
   "metadata": {}
  },
  {
   "cell_type": "markdown",
   "source": [
    "# Entity MLM\n",
    "\n",
    "Another pretraining task that could be interesting would be a form of masked language model that would mask entire entities instead of single tokens. This could be seen as a form contextual pretraining specialized over our data.\n",
    "\n",
    "Let's first explore the RoBERTa tokenizer and how we could efficiently mask entities(recall that they vary in # of words).\n"
   ],
   "metadata": {}
  },
  {
   "cell_type": "code",
   "execution_count": 439,
   "source": [
    "#from pytorch_transformers import RobertaTokenizer\n",
    "from transformers import RobertaTokenizerFast\n",
    "import torch\n",
    "import pandas as pd, re\n",
    "from ast import literal_eval\n",
    "\n",
    "name = \"dev\"\n",
    "ner_data = pd.read_csv(f\"data/ner_data/ser_bus_spc/en/{name}/data.csv\", index_col=0)\n",
    "ner_data[\"text\"] = ner_data[\"text\"].apply(lambda row: literal_eval(row))\n",
    "ner_data[\"tag\"] = ner_data[\"tag\"].apply(lambda row: literal_eval(row))\n",
    "\n",
    "with open(\"data/custom_taxo/graph_triples.nt\", 'r', encoding=\"utf-8\") as g:\n",
    "    graphs = {}\n",
    "    for line in g:\n",
    "        try:\n",
    "            subj, relation, parent = re.findall(r'\"(.*?)\"', line)\n",
    "        except:\n",
    "            print(\"Bad formatting, skipping.\")\n",
    "\n",
    "        if subj not in graphs.keys():\n",
    "            graphs[subj] = {}\n",
    "            graphs[subj][\"relations\"] = [(relation, parent)]\n",
    "        else:\n",
    "            graphs[subj][\"relations\"].append((relation, parent))\n",
    "\n",
    "ner_data[\"entity_pos\"] = ner_data[\"tag\"].apply(lambda row: get_entity_pos(row))\n",
    "    "
   ],
   "outputs": [],
   "metadata": {}
  },
  {
   "cell_type": "code",
   "execution_count": 440,
   "source": [
    "tokenizer = RobertaTokenizerFast.from_pretrained(\"roberta-large\",add_prefix_space=True)"
   ],
   "outputs": [],
   "metadata": {}
  },
  {
   "cell_type": "code",
   "execution_count": 543,
   "source": [
    "text = ner_data.iloc[1][\"text\"]\n",
    "tags = ner_data.iloc[1][\"tag\"]\n",
    "inputs = tokenizer(text,return_tensors=\"pt\", is_split_into_words=True, padding=\"max_length\", max_length=32, add_special_tokens=True)"
   ],
   "outputs": [],
   "metadata": {}
  },
  {
   "cell_type": "code",
   "execution_count": 552,
   "source": [
    "word_ids = inputs.word_ids()\n",
    "word_ids = torch.tensor([word_id if word_id is not None else -1 for word_id in word_ids])\n",
    "input_ids = inputs[\"input_ids\"]\n",
    "attention_mask = inputs[\"attention_mask\"]\n",
    "\n",
    "ent_pos = ner_data.iloc[1][\"entity_pos\"] # coin flip here, with a bonus if there is only one entity.\n"
   ],
   "outputs": [],
   "metadata": {}
  },
  {
   "cell_type": "code",
   "execution_count": 545,
   "source": [
    "ent_pos"
   ],
   "outputs": [
    {
     "output_type": "execute_result",
     "data": {
      "text/plain": [
       "[(2, 2), (13, 13)]"
      ]
     },
     "metadata": {},
     "execution_count": 545
    }
   ],
   "metadata": {}
  },
  {
   "cell_type": "code",
   "execution_count": 471,
   "source": [
    "import torch\n",
    "mask = torch.rand(input_ids.size()) < 0.15\n"
   ],
   "outputs": [],
   "metadata": {}
  },
  {
   "cell_type": "code",
   "execution_count": 560,
   "source": [
    "entity_mask = []\n",
    "for ent in ent_pos:\n",
    "    tmp = word_ids == ent[0]\n",
    "    entity_mask.append(tmp.int())\n",
    "entity_mask = sum(entity_mask)"
   ],
   "outputs": [],
   "metadata": {}
  },
  {
   "cell_type": "code",
   "execution_count": 561,
   "source": [
    "input_ids * entity_mask"
   ],
   "outputs": [
    {
     "output_type": "execute_result",
     "data": {
      "text/plain": [
       "tensor([[    0,     0,     0,  1145,  9506, 43202,     0,     0,     0,     0,\n",
       "             0,     0,     0,     0,     0,     0, 37662, 13941, 44738,     0,\n",
       "             0,     0,     0,     0,     0,     0,     0,     0,     0,     0,\n",
       "             0,     0]])"
      ]
     },
     "metadata": {},
     "execution_count": 561
    }
   ],
   "metadata": {}
  },
  {
   "cell_type": "code",
   "execution_count": 515,
   "source": [
    "import itertools\n",
    "core = input_ids[tmp]\n",
    "subword_index_lists = [sum(1 for _ in group) for _, group in itertools.groupby(word_ids)]"
   ],
   "outputs": [],
   "metadata": {}
  },
  {
   "cell_type": "code",
   "execution_count": 535,
   "source": [
    "entity_mask = []\n",
    "for tag,idxs in zip(tags, subword_index_lists):\n",
    "        entity_mask.extend([1 if tag != \"O\" else 0]*idxs)"
   ],
   "outputs": [],
   "metadata": {}
  },
  {
   "cell_type": "code",
   "execution_count": 540,
   "source": [
    "entity_mask = torch.tensor(entity_mask)"
   ],
   "outputs": [
    {
     "output_type": "execute_result",
     "data": {
      "text/plain": [
       "torch.Size([1, 32])"
      ]
     },
     "metadata": {},
     "execution_count": 540
    }
   ],
   "metadata": {}
  },
  {
   "cell_type": "code",
   "execution_count": 524,
   "source": [
    "sum(subword_index_lists[ent_pos[0][0]: ent_pos[0][1]+1])"
   ],
   "outputs": [
    {
     "output_type": "execute_result",
     "data": {
      "text/plain": [
       "0"
      ]
     },
     "metadata": {},
     "execution_count": 524
    }
   ],
   "metadata": {}
  },
  {
   "cell_type": "code",
   "execution_count": 510,
   "source": [
    "core.split(subword_index_lists)[ent_pos[0][0]: ent_pos[0][1]+3]"
   ],
   "outputs": [
    {
     "output_type": "execute_result",
     "data": {
      "text/plain": [
       "(tensor([ 1145,  9506, 43202]),\n",
       " tensor([9285]),\n",
       " tensor([16]),\n",
       " tensor([182]),\n",
       " tensor([3159]))"
      ]
     },
     "metadata": {},
     "execution_count": 510
    }
   ],
   "metadata": {}
  },
  {
   "cell_type": "code",
   "execution_count": 516,
   "source": [
    "core[2:7] = tokenizer.mask_token_id"
   ],
   "outputs": [],
   "metadata": {}
  },
  {
   "cell_type": "code",
   "execution_count": 517,
   "source": [
    "core"
   ],
   "outputs": [
    {
     "output_type": "execute_result",
     "data": {
      "text/plain": [
       "tensor([   11,  5868, 50264, 50264, 50264, 50264, 50264,   182,  3159,    23,\n",
       "        18441, 19899,     8, 21532,     9, 37662, 13941, 44738])"
      ]
     },
     "metadata": {},
     "execution_count": 517
    }
   ],
   "metadata": {}
  },
  {
   "cell_type": "code",
   "execution_count": 519,
   "source": [
    "input_ids[tmp]"
   ],
   "outputs": [
    {
     "output_type": "execute_result",
     "data": {
      "text/plain": [
       "tensor([   11,  5868,  1145,  9506, 43202,  9285,    16,   182,  3159,    23,\n",
       "        18441, 19899,     8, 21532,     9, 37662, 13941, 44738])"
      ]
     },
     "metadata": {},
     "execution_count": 519
    }
   ],
   "metadata": {}
  },
  {
   "cell_type": "code",
   "execution_count": 531,
   "source": [
    "entity_mask = [1 if tags[i] != \"O\" else 0 for i in range(len(tags))]\n",
    "    "
   ],
   "outputs": [],
   "metadata": {}
  },
  {
   "cell_type": "code",
   "execution_count": 534,
   "source": [],
   "outputs": [
    {
     "output_type": "error",
     "ename": "TypeError",
     "evalue": "only integer tensors of a single element can be converted to an index",
     "traceback": [
      "\u001b[0;31m---------------------------------------------------------------------------\u001b[0m",
      "\u001b[0;31mTypeError\u001b[0m                                 Traceback (most recent call last)",
      "\u001b[0;32m/var/folders/vy/29mnphrs6sscrqlm2cd0tyz00000gn/T/ipykernel_58338/2844634904.py\u001b[0m in \u001b[0;36m<module>\u001b[0;34m\u001b[0m\n\u001b[0;32m----> 1\u001b[0;31m \u001b[0mcore\u001b[0m \u001b[0;34m*\u001b[0m \u001b[0mentity_mask\u001b[0m\u001b[0;34m\u001b[0m\u001b[0;34m\u001b[0m\u001b[0m\n\u001b[0m",
      "\u001b[0;31mTypeError\u001b[0m: only integer tensors of a single element can be converted to an index"
     ]
    }
   ],
   "metadata": {}
  }
 ],
 "metadata": {
  "orig_nbformat": 4,
  "language_info": {
   "name": "python",
   "version": "3.8.6",
   "mimetype": "text/x-python",
   "codemirror_mode": {
    "name": "ipython",
    "version": 3
   },
   "pygments_lexer": "ipython3",
   "nbconvert_exporter": "python",
   "file_extension": ".py"
  },
  "kernelspec": {
   "name": "python3",
   "display_name": "Python 3.8.6 64-bit ('k-adapter-yjoD7LG2-py3.8': poetry)"
  },
  "interpreter": {
   "hash": "ac13078e819976022ed1dbb11dbcf70da4eb488025c72dccf5a05e9cff8c985d"
  }
 },
 "nbformat": 4,
 "nbformat_minor": 2
}